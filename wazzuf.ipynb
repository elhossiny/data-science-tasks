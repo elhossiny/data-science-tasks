{
  "nbformat": 4,
  "nbformat_minor": 0,
  "metadata": {
    "colab": {
      "provenance": []
    },
    "kernelspec": {
      "name": "python3",
      "display_name": "Python 3"
    },
    "language_info": {
      "name": "python"
    }
  },
  "cells": [
    {
      "cell_type": "code",
      "execution_count": 2,
      "metadata": {
        "colab": {
          "base_uri": "https://localhost:8080/",
          "height": 354
        },
        "id": "qek89eiGvDbe",
        "outputId": "2af73c8a-35ef-450a-f0a7-d4b34131969f"
      },
      "outputs": [
        {
          "output_type": "execute_result",
          "data": {
            "text/plain": [
              "                               Title                Company    Location  \\\n",
              "0             Customer Service Agent       Johnson Controls   New Cairo   \n",
              "1                  Marketing Manager  SYE English Community       Dokki   \n",
              "2  Medical Representative Heliopolis        So Value Pharma       Cairo   \n",
              "3          Order Handling Specialist       Johnson Controls   New Cairo   \n",
              "4                        Storekeeper           Confidential       Cairo   \n",
              "\n",
              "        Type        Level         YearsExp Country  \\\n",
              "0  Full Time  Entry Level   1-3 Yrs of Exp   Cairo   \n",
              "1  Full Time      Manager  5-10 Yrs of Exp    Giza   \n",
              "2  Full Time  Entry Level   0-5 Yrs of Exp   Egypt   \n",
              "3  Full Time  Experienced   3-5 Yrs of Exp   Cairo   \n",
              "4  Full Time  Experienced    3+ Yrs of Exp   Egypt   \n",
              "\n",
              "                                              Skills  \n",
              "0  Call Center, Customer Support, Customer Care, ...  \n",
              "1  Market Research, Social Media, Online Marketin...  \n",
              "2  Cardio-metabolic, Sales Skills, Sales Target, ...  \n",
              "3  Supply Officer, Supply Planner, Procurement an...  \n",
              "4  Warehousing, Storekeeping, Logistics/Supply Chain  "
            ],
            "text/html": [
              "\n",
              "  <div id=\"df-7c70c0a7-2aad-4322-8b6b-58afc2ba19e0\">\n",
              "    <div class=\"colab-df-container\">\n",
              "      <div>\n",
              "<style scoped>\n",
              "    .dataframe tbody tr th:only-of-type {\n",
              "        vertical-align: middle;\n",
              "    }\n",
              "\n",
              "    .dataframe tbody tr th {\n",
              "        vertical-align: top;\n",
              "    }\n",
              "\n",
              "    .dataframe thead th {\n",
              "        text-align: right;\n",
              "    }\n",
              "</style>\n",
              "<table border=\"1\" class=\"dataframe\">\n",
              "  <thead>\n",
              "    <tr style=\"text-align: right;\">\n",
              "      <th></th>\n",
              "      <th>Title</th>\n",
              "      <th>Company</th>\n",
              "      <th>Location</th>\n",
              "      <th>Type</th>\n",
              "      <th>Level</th>\n",
              "      <th>YearsExp</th>\n",
              "      <th>Country</th>\n",
              "      <th>Skills</th>\n",
              "    </tr>\n",
              "  </thead>\n",
              "  <tbody>\n",
              "    <tr>\n",
              "      <th>0</th>\n",
              "      <td>Customer Service Agent</td>\n",
              "      <td>Johnson Controls</td>\n",
              "      <td>New Cairo</td>\n",
              "      <td>Full Time</td>\n",
              "      <td>Entry Level</td>\n",
              "      <td>1-3 Yrs of Exp</td>\n",
              "      <td>Cairo</td>\n",
              "      <td>Call Center, Customer Support, Customer Care, ...</td>\n",
              "    </tr>\n",
              "    <tr>\n",
              "      <th>1</th>\n",
              "      <td>Marketing Manager</td>\n",
              "      <td>SYE English Community</td>\n",
              "      <td>Dokki</td>\n",
              "      <td>Full Time</td>\n",
              "      <td>Manager</td>\n",
              "      <td>5-10 Yrs of Exp</td>\n",
              "      <td>Giza</td>\n",
              "      <td>Market Research, Social Media, Online Marketin...</td>\n",
              "    </tr>\n",
              "    <tr>\n",
              "      <th>2</th>\n",
              "      <td>Medical Representative Heliopolis</td>\n",
              "      <td>So Value Pharma</td>\n",
              "      <td>Cairo</td>\n",
              "      <td>Full Time</td>\n",
              "      <td>Entry Level</td>\n",
              "      <td>0-5 Yrs of Exp</td>\n",
              "      <td>Egypt</td>\n",
              "      <td>Cardio-metabolic, Sales Skills, Sales Target, ...</td>\n",
              "    </tr>\n",
              "    <tr>\n",
              "      <th>3</th>\n",
              "      <td>Order Handling Specialist</td>\n",
              "      <td>Johnson Controls</td>\n",
              "      <td>New Cairo</td>\n",
              "      <td>Full Time</td>\n",
              "      <td>Experienced</td>\n",
              "      <td>3-5 Yrs of Exp</td>\n",
              "      <td>Cairo</td>\n",
              "      <td>Supply Officer, Supply Planner, Procurement an...</td>\n",
              "    </tr>\n",
              "    <tr>\n",
              "      <th>4</th>\n",
              "      <td>Storekeeper</td>\n",
              "      <td>Confidential</td>\n",
              "      <td>Cairo</td>\n",
              "      <td>Full Time</td>\n",
              "      <td>Experienced</td>\n",
              "      <td>3+ Yrs of Exp</td>\n",
              "      <td>Egypt</td>\n",
              "      <td>Warehousing, Storekeeping, Logistics/Supply Chain</td>\n",
              "    </tr>\n",
              "  </tbody>\n",
              "</table>\n",
              "</div>\n",
              "      <button class=\"colab-df-convert\" onclick=\"convertToInteractive('df-7c70c0a7-2aad-4322-8b6b-58afc2ba19e0')\"\n",
              "              title=\"Convert this dataframe to an interactive table.\"\n",
              "              style=\"display:none;\">\n",
              "        \n",
              "  <svg xmlns=\"http://www.w3.org/2000/svg\" height=\"24px\"viewBox=\"0 0 24 24\"\n",
              "       width=\"24px\">\n",
              "    <path d=\"M0 0h24v24H0V0z\" fill=\"none\"/>\n",
              "    <path d=\"M18.56 5.44l.94 2.06.94-2.06 2.06-.94-2.06-.94-.94-2.06-.94 2.06-2.06.94zm-11 1L8.5 8.5l.94-2.06 2.06-.94-2.06-.94L8.5 2.5l-.94 2.06-2.06.94zm10 10l.94 2.06.94-2.06 2.06-.94-2.06-.94-.94-2.06-.94 2.06-2.06.94z\"/><path d=\"M17.41 7.96l-1.37-1.37c-.4-.4-.92-.59-1.43-.59-.52 0-1.04.2-1.43.59L10.3 9.45l-7.72 7.72c-.78.78-.78 2.05 0 2.83L4 21.41c.39.39.9.59 1.41.59.51 0 1.02-.2 1.41-.59l7.78-7.78 2.81-2.81c.8-.78.8-2.07 0-2.86zM5.41 20L4 18.59l7.72-7.72 1.47 1.35L5.41 20z\"/>\n",
              "  </svg>\n",
              "      </button>\n",
              "      \n",
              "  <style>\n",
              "    .colab-df-container {\n",
              "      display:flex;\n",
              "      flex-wrap:wrap;\n",
              "      gap: 12px;\n",
              "    }\n",
              "\n",
              "    .colab-df-convert {\n",
              "      background-color: #E8F0FE;\n",
              "      border: none;\n",
              "      border-radius: 50%;\n",
              "      cursor: pointer;\n",
              "      display: none;\n",
              "      fill: #1967D2;\n",
              "      height: 32px;\n",
              "      padding: 0 0 0 0;\n",
              "      width: 32px;\n",
              "    }\n",
              "\n",
              "    .colab-df-convert:hover {\n",
              "      background-color: #E2EBFA;\n",
              "      box-shadow: 0px 1px 2px rgba(60, 64, 67, 0.3), 0px 1px 3px 1px rgba(60, 64, 67, 0.15);\n",
              "      fill: #174EA6;\n",
              "    }\n",
              "\n",
              "    [theme=dark] .colab-df-convert {\n",
              "      background-color: #3B4455;\n",
              "      fill: #D2E3FC;\n",
              "    }\n",
              "\n",
              "    [theme=dark] .colab-df-convert:hover {\n",
              "      background-color: #434B5C;\n",
              "      box-shadow: 0px 1px 3px 1px rgba(0, 0, 0, 0.15);\n",
              "      filter: drop-shadow(0px 1px 2px rgba(0, 0, 0, 0.3));\n",
              "      fill: #FFFFFF;\n",
              "    }\n",
              "  </style>\n",
              "\n",
              "      <script>\n",
              "        const buttonEl =\n",
              "          document.querySelector('#df-7c70c0a7-2aad-4322-8b6b-58afc2ba19e0 button.colab-df-convert');\n",
              "        buttonEl.style.display =\n",
              "          google.colab.kernel.accessAllowed ? 'block' : 'none';\n",
              "\n",
              "        async function convertToInteractive(key) {\n",
              "          const element = document.querySelector('#df-7c70c0a7-2aad-4322-8b6b-58afc2ba19e0');\n",
              "          const dataTable =\n",
              "            await google.colab.kernel.invokeFunction('convertToInteractive',\n",
              "                                                     [key], {});\n",
              "          if (!dataTable) return;\n",
              "\n",
              "          const docLinkHtml = 'Like what you see? Visit the ' +\n",
              "            '<a target=\"_blank\" href=https://colab.research.google.com/notebooks/data_table.ipynb>data table notebook</a>'\n",
              "            + ' to learn more about interactive tables.';\n",
              "          element.innerHTML = '';\n",
              "          dataTable['output_type'] = 'display_data';\n",
              "          await google.colab.output.renderOutput(dataTable, element);\n",
              "          const docLink = document.createElement('div');\n",
              "          docLink.innerHTML = docLinkHtml;\n",
              "          element.appendChild(docLink);\n",
              "        }\n",
              "      </script>\n",
              "    </div>\n",
              "  </div>\n",
              "  "
            ]
          },
          "metadata": {},
          "execution_count": 2
        }
      ],
      "source": [
        "import pandas as pd\n",
        "import matplotlib.pyplot as plt\n",
        "import numpy as np\n",
        "from sklearn.impute import SimpleImputer #imputation missing data \n",
        "#----------------------------------------\n",
        "#--------Store data as dataframe----------\n",
        "#----------------------------------------\n",
        "dataset=pd.read_csv(\"Wuzzuf_Jobs.csv\")\n",
        "d1=pd.DataFrame(dataset)\n",
        "d1.head(5)\n"
      ]
    },
    {
      "cell_type": "code",
      "source": [
        "dataset.describe()\n"
      ],
      "metadata": {
        "colab": {
          "base_uri": "https://localhost:8080/",
          "height": 236
        },
        "id": "SI3VsF0XvlK_",
        "outputId": "1dede56b-866d-4c59-ba57-a64892a1fc42"
      },
      "execution_count": 3,
      "outputs": [
        {
          "output_type": "execute_result",
          "data": {
            "text/plain": [
              "             Title       Company Location       Type        Level  \\\n",
              "count         4380          4380     4380       4380         4380   \n",
              "unique        2965          1534      162          6            9   \n",
              "top     Accountant  Confidential    Cairo  Full Time  Experienced   \n",
              "freq            57           590      563       4168         2198   \n",
              "\n",
              "              YearsExp Country  \\\n",
              "count             4380    4380   \n",
              "unique             101      42   \n",
              "top     1-3 Yrs of Exp   Cairo   \n",
              "freq               414    2230   \n",
              "\n",
              "                                                   Skills  \n",
              "count                                                4380  \n",
              "unique                                               4227  \n",
              "top     Corporate Sales, Real Estate, Advertising, Mar...  \n",
              "freq                                                   12  "
            ],
            "text/html": [
              "\n",
              "  <div id=\"df-9c71ffa2-2b79-43c7-b9ee-226a47ff44d9\">\n",
              "    <div class=\"colab-df-container\">\n",
              "      <div>\n",
              "<style scoped>\n",
              "    .dataframe tbody tr th:only-of-type {\n",
              "        vertical-align: middle;\n",
              "    }\n",
              "\n",
              "    .dataframe tbody tr th {\n",
              "        vertical-align: top;\n",
              "    }\n",
              "\n",
              "    .dataframe thead th {\n",
              "        text-align: right;\n",
              "    }\n",
              "</style>\n",
              "<table border=\"1\" class=\"dataframe\">\n",
              "  <thead>\n",
              "    <tr style=\"text-align: right;\">\n",
              "      <th></th>\n",
              "      <th>Title</th>\n",
              "      <th>Company</th>\n",
              "      <th>Location</th>\n",
              "      <th>Type</th>\n",
              "      <th>Level</th>\n",
              "      <th>YearsExp</th>\n",
              "      <th>Country</th>\n",
              "      <th>Skills</th>\n",
              "    </tr>\n",
              "  </thead>\n",
              "  <tbody>\n",
              "    <tr>\n",
              "      <th>count</th>\n",
              "      <td>4380</td>\n",
              "      <td>4380</td>\n",
              "      <td>4380</td>\n",
              "      <td>4380</td>\n",
              "      <td>4380</td>\n",
              "      <td>4380</td>\n",
              "      <td>4380</td>\n",
              "      <td>4380</td>\n",
              "    </tr>\n",
              "    <tr>\n",
              "      <th>unique</th>\n",
              "      <td>2965</td>\n",
              "      <td>1534</td>\n",
              "      <td>162</td>\n",
              "      <td>6</td>\n",
              "      <td>9</td>\n",
              "      <td>101</td>\n",
              "      <td>42</td>\n",
              "      <td>4227</td>\n",
              "    </tr>\n",
              "    <tr>\n",
              "      <th>top</th>\n",
              "      <td>Accountant</td>\n",
              "      <td>Confidential</td>\n",
              "      <td>Cairo</td>\n",
              "      <td>Full Time</td>\n",
              "      <td>Experienced</td>\n",
              "      <td>1-3 Yrs of Exp</td>\n",
              "      <td>Cairo</td>\n",
              "      <td>Corporate Sales, Real Estate, Advertising, Mar...</td>\n",
              "    </tr>\n",
              "    <tr>\n",
              "      <th>freq</th>\n",
              "      <td>57</td>\n",
              "      <td>590</td>\n",
              "      <td>563</td>\n",
              "      <td>4168</td>\n",
              "      <td>2198</td>\n",
              "      <td>414</td>\n",
              "      <td>2230</td>\n",
              "      <td>12</td>\n",
              "    </tr>\n",
              "  </tbody>\n",
              "</table>\n",
              "</div>\n",
              "      <button class=\"colab-df-convert\" onclick=\"convertToInteractive('df-9c71ffa2-2b79-43c7-b9ee-226a47ff44d9')\"\n",
              "              title=\"Convert this dataframe to an interactive table.\"\n",
              "              style=\"display:none;\">\n",
              "        \n",
              "  <svg xmlns=\"http://www.w3.org/2000/svg\" height=\"24px\"viewBox=\"0 0 24 24\"\n",
              "       width=\"24px\">\n",
              "    <path d=\"M0 0h24v24H0V0z\" fill=\"none\"/>\n",
              "    <path d=\"M18.56 5.44l.94 2.06.94-2.06 2.06-.94-2.06-.94-.94-2.06-.94 2.06-2.06.94zm-11 1L8.5 8.5l.94-2.06 2.06-.94-2.06-.94L8.5 2.5l-.94 2.06-2.06.94zm10 10l.94 2.06.94-2.06 2.06-.94-2.06-.94-.94-2.06-.94 2.06-2.06.94z\"/><path d=\"M17.41 7.96l-1.37-1.37c-.4-.4-.92-.59-1.43-.59-.52 0-1.04.2-1.43.59L10.3 9.45l-7.72 7.72c-.78.78-.78 2.05 0 2.83L4 21.41c.39.39.9.59 1.41.59.51 0 1.02-.2 1.41-.59l7.78-7.78 2.81-2.81c.8-.78.8-2.07 0-2.86zM5.41 20L4 18.59l7.72-7.72 1.47 1.35L5.41 20z\"/>\n",
              "  </svg>\n",
              "      </button>\n",
              "      \n",
              "  <style>\n",
              "    .colab-df-container {\n",
              "      display:flex;\n",
              "      flex-wrap:wrap;\n",
              "      gap: 12px;\n",
              "    }\n",
              "\n",
              "    .colab-df-convert {\n",
              "      background-color: #E8F0FE;\n",
              "      border: none;\n",
              "      border-radius: 50%;\n",
              "      cursor: pointer;\n",
              "      display: none;\n",
              "      fill: #1967D2;\n",
              "      height: 32px;\n",
              "      padding: 0 0 0 0;\n",
              "      width: 32px;\n",
              "    }\n",
              "\n",
              "    .colab-df-convert:hover {\n",
              "      background-color: #E2EBFA;\n",
              "      box-shadow: 0px 1px 2px rgba(60, 64, 67, 0.3), 0px 1px 3px 1px rgba(60, 64, 67, 0.15);\n",
              "      fill: #174EA6;\n",
              "    }\n",
              "\n",
              "    [theme=dark] .colab-df-convert {\n",
              "      background-color: #3B4455;\n",
              "      fill: #D2E3FC;\n",
              "    }\n",
              "\n",
              "    [theme=dark] .colab-df-convert:hover {\n",
              "      background-color: #434B5C;\n",
              "      box-shadow: 0px 1px 3px 1px rgba(0, 0, 0, 0.15);\n",
              "      filter: drop-shadow(0px 1px 2px rgba(0, 0, 0, 0.3));\n",
              "      fill: #FFFFFF;\n",
              "    }\n",
              "  </style>\n",
              "\n",
              "      <script>\n",
              "        const buttonEl =\n",
              "          document.querySelector('#df-9c71ffa2-2b79-43c7-b9ee-226a47ff44d9 button.colab-df-convert');\n",
              "        buttonEl.style.display =\n",
              "          google.colab.kernel.accessAllowed ? 'block' : 'none';\n",
              "\n",
              "        async function convertToInteractive(key) {\n",
              "          const element = document.querySelector('#df-9c71ffa2-2b79-43c7-b9ee-226a47ff44d9');\n",
              "          const dataTable =\n",
              "            await google.colab.kernel.invokeFunction('convertToInteractive',\n",
              "                                                     [key], {});\n",
              "          if (!dataTable) return;\n",
              "\n",
              "          const docLinkHtml = 'Like what you see? Visit the ' +\n",
              "            '<a target=\"_blank\" href=https://colab.research.google.com/notebooks/data_table.ipynb>data table notebook</a>'\n",
              "            + ' to learn more about interactive tables.';\n",
              "          element.innerHTML = '';\n",
              "          dataTable['output_type'] = 'display_data';\n",
              "          await google.colab.output.renderOutput(dataTable, element);\n",
              "          const docLink = document.createElement('div');\n",
              "          docLink.innerHTML = docLinkHtml;\n",
              "          element.appendChild(docLink);\n",
              "        }\n",
              "      </script>\n",
              "    </div>\n",
              "  </div>\n",
              "  "
            ]
          },
          "metadata": {},
          "execution_count": 3
        }
      ]
    },
    {
      "cell_type": "code",
      "source": [
        "#----------------------------------------\n",
        "#--------Cleaning data-----------\n",
        "#----------------------------------------\n",
        "dataset.sort_values(\"Title\", inplace = True)\n",
        "dataset.drop_duplicates(keep = \"first\", inplace = True)\n",
        "X = dataset.iloc[:, :-1].values\n",
        "y = dataset.iloc[:, 7].values\n",
        "\n",
        "imputer = SimpleImputer(missing_values = \"\", strategy = 'most_frequent')\n",
        "imputer = imputer.fit(X[:, 0:7])\n",
        "X[:, 0:7] = imputer.transform(X[:, 0:7])\n"
      ],
      "metadata": {
        "id": "BYGOIXbhvHvn"
      },
      "execution_count": 4,
      "outputs": []
    },
    {
      "cell_type": "code",
      "source": [
        "dataset['Company'].value_counts().head()"
      ],
      "metadata": {
        "id": "bvac6Pblx2mU",
        "outputId": "a7becc70-af4f-4395-90a5-47266c609714",
        "colab": {
          "base_uri": "https://localhost:8080/"
        }
      },
      "execution_count": 7,
      "outputs": [
        {
          "output_type": "execute_result",
          "data": {
            "text/plain": [
              "Confidential    590\n",
              "Mishkat Nour     39\n",
              "Expand Cart      35\n",
              "EGIC             34\n",
              "Aqarmap.com      25\n",
              "Name: Company, dtype: int64"
            ]
          },
          "metadata": {},
          "execution_count": 7
        }
      ]
    },
    {
      "cell_type": "code",
      "source": [
        "#----------------------------------------\n",
        "#--------Showing Company -----------\n",
        "#----------------------------------------\n",
        "print(\">>>>>>>>>>popular Company >>>>>>>>>>>\")\n",
        "numOfjops=dataset['Company'].value_counts().head()\n",
        "print(numOfjops)\n",
        "labels=list(numOfjops.keys())\n",
        "plt.pie(numOfjops,labels = labels)\n",
        "plt.show()\n"
      ],
      "metadata": {
        "id": "nmKGvWUUwvX-",
        "outputId": "6532a9ee-9340-46fd-c293-b6c4e0c373d6",
        "colab": {
          "base_uri": "https://localhost:8080/",
          "height": 376
        }
      },
      "execution_count": 8,
      "outputs": [
        {
          "output_type": "stream",
          "name": "stdout",
          "text": [
            ">>>>>>>>>>popular Company >>>>>>>>>>>\n",
            "Confidential    590\n",
            "Mishkat Nour     39\n",
            "Expand Cart      35\n",
            "EGIC             34\n",
            "Aqarmap.com      25\n",
            "Name: Company, dtype: int64\n"
          ]
        },
        {
          "output_type": "display_data",
          "data": {
            "text/plain": [
              "<Figure size 432x288 with 1 Axes>"
            ],
            "image/png": "[encoded data removed]"
          },
          "metadata": {}
        }
      ]
    },
    {
      "cell_type": "code",
      "source": [
        "#----------------------------------------\n",
        "#--------most popular jobs -----------\n",
        "#----------------------------------------\n",
        "print(\">>>>>>>>>>popular jops >>>>>>>>>>>\")\n",
        "jobs=dataset['Title'].value_counts().head()\n",
        "print(jobs)\n",
        "plt.xlabel(\"job_title\")\n",
        "plt.ylabel(\"NumberOfjop\")\n",
        "plt.title(\"most popular jop\")\n",
        "jobLabels=jobs.keys()\n",
        "#jobLabels=[\"Accountant\",\"Sales\",\"GraphicDesigner\",\"Digital M\",\"Sales Manager\"]\n",
        "plt.bar(jobLabels,jobs)\n",
        "plt.show()\n"
      ],
      "metadata": {
        "id": "RlW6x8RQxgtM",
        "outputId": "0e320411-8d33-4b60-d43c-96f3d242de88",
        "colab": {
          "base_uri": "https://localhost:8080/",
          "height": 424
        }
      },
      "execution_count": 11,
      "outputs": [
        {
          "output_type": "stream",
          "name": "stdout",
          "text": [
            ">>>>>>>>>>popular jops >>>>>>>>>>>\n",
            "Accountant                      57\n",
            "Sales Representative            47\n",
            "Graphic Designer                43\n",
            "Digital Marketing Specialist    26\n",
            "Sales Manager                   25\n",
            "Name: Title, dtype: int64\n"
          ]
        },
        {
          "output_type": "display_data",
          "data": {
            "text/plain": [
              "<Figure size 432x288 with 1 Axes>"
            ],
            "image/png": "[encoded data removed]"
          },
          "metadata": {
            "needs_background": "light"
          }
        }
      ]
    },
    {
      "cell_type": "code",
      "source": [
        "#----------------------------------------\n",
        "#--------most popular areas -----------\n",
        "#----------------------------------------\n",
        "areas=dataset['Location'].value_counts().head()\n",
        "print(areas)\n",
        "plt.xlabel(\"Location_Name\")\n",
        "plt.ylabel(\"NumberOfLocation\")\n",
        "plt.title(\"most popular location\")\n",
        "locLable=list(areas.keys())\n",
        "plt.bar(locLable,areas)\n",
        "plt.show()\n",
        "\n"
      ],
      "metadata": {
        "id": "0jDP8XcTzsr0",
        "outputId": "e46bd690-e254-4ec6-d937-0874ede35392",
        "colab": {
          "base_uri": "https://localhost:8080/",
          "height": 406
        }
      },
      "execution_count": 12,
      "outputs": [
        {
          "output_type": "stream",
          "name": "stdout",
          "text": [
            " Cairo             563\n",
            " Maadi             524\n",
            " New Cairo         520\n",
            " Nasr City         424\n",
            " 6th of October    282\n",
            "Name: Location, dtype: int64\n"
          ]
        },
        {
          "output_type": "display_data",
          "data": {
            "text/plain": [
              "<Figure size 432x288 with 1 Axes>"
            ],
            "image/png": "[encoded data removed]"
          },
          "metadata": {
            "needs_background": "light"
          }
        }
      ]
    },
    {
      "cell_type": "code",
      "source": [
        "#----------------------------------------\n",
        "#--------most popular areas -----------\n",
        "#----------------------------------------\n",
        "skills=dataset['Skills'].value_counts().head()\n",
        "print(\">>>>>>>>>>popular skills >>>>>>>>>>>\")\n",
        "print(skills)\n",
        "skillsLabel=list(skills.keys())\n",
        "plt.xlabel(\"skill\")\n",
        "plt.ylabel(\"NumberOskills\")\n",
        "plt.title(\"most popular skills\")\n",
        "plt.bar(skillsLabel,skills)\n",
        "plt.show()"
      ],
      "metadata": {
        "id": "W77obVWo1Ifz",
        "outputId": "5dbe5e80-4c4c-4847-b27b-bed5e063b074",
        "colab": {
          "base_uri": "https://localhost:8080/",
          "height": 443
        }
      },
      "execution_count": 13,
      "outputs": [
        {
          "output_type": "stream",
          "name": "stdout",
          "text": [
            ">>>>>>>>>>popular skills >>>>>>>>>>>\n",
            "Corporate Sales, Real Estate, Advertising, Marketing, Sales Skills, Insurance, Sales Target, Outdoor Sales, Telesales, Property       12\n",
            "Logistics, SAP, Inventory, Store Keeping, Logistics/Supply Chain                                                                      11\n",
            "Sales Skills, Sales Target, Customer Services, Customer Care, Retail, Collection, Distribution, Selling Skills, Negotiation Skills    10\n",
            "Real Estate, Sales Skills, Sales Target, Outdoor Sales, Property, Customer Service, Customer Care, Customer Support, Advertising       9\n",
            "Finance, Sales Accounting, Commerce, Budget, Reporting, Accounting/Finance                                                             9\n",
            "Name: Skills, dtype: int64\n"
          ]
        },
        {
          "output_type": "display_data",
          "data": {
            "text/plain": [
              "<Figure size 432x288 with 1 Axes>"
            ],
            "image/png": "[encoded data removed]"
          },
          "metadata": {
            "needs_background": "light"
          }
        }
      ]
    },
    {
      "cell_type": "code",
      "source": [
        "#--------Cleaning data-----------\n",
        "#----------------------------------------\n",
        "dataset.sort_values(\"Title\", inplace = True)\n",
        "dataset.drop_duplicates(keep = \"first\", inplace = True)\n",
        "X = dataset.iloc[:, :-1].values\n",
        "y = dataset.iloc[:, 7].values\n",
        "\n",
        "imputer = SimpleImputer(missing_values = \"\", strategy = 'most_frequent')\n",
        "imputer = imputer.fit(X[:, 0:7])\n",
        "X[:, 0:7] = imputer.transform(X[:, 0:7])\n"
      ],
      "metadata": {
        "id": "XHV2jKcqvHyf"
      },
      "execution_count": null,
      "outputs": []
    },
    {
      "cell_type": "code",
      "source": [
        "#----------------------------------------\n",
        "#--------Showing Company -----------\n",
        "#----------------------------------------\n",
        "print(\">>>>>>>>>>popular Company >>>>>>>>>>>\")\n",
        "numOfjops=dataset['Company'].value_counts().head()\n",
        "print(numOfjops)\n",
        "labels=list(numOfjops.keys())\n",
        "plt.pie(numOfjops,labels = labels)\n",
        "plt.show()\n"
      ],
      "metadata": {
        "id": "fEGBRv33vH0t"
      },
      "execution_count": null,
      "outputs": []
    },
    {
      "cell_type": "code",
      "source": [
        "#----------------------------------------\n",
        "#--------most popular jops -----------\n",
        "#----------------------------------------\n",
        "print(\">>>>>>>>>>popular jops >>>>>>>>>>>\")\n",
        "jops=dataset['Title'].value_counts().head()\n",
        "print(jops)\n",
        "plt.xlabel(\"jop_title\")\n",
        "plt.ylabel(\"NumberOfjop\")\n",
        "plt.title(\"most popular jop\")\n",
        "jopLabels=[\"Accountant\",\"Sales\",\"GraphicDesigner\",\"Digital M\",\"Sales Manager\"]\n",
        "plt.bar(jopLabels,jops, rotation='vertical')\n",
        "plt.show()\n"
      ],
      "metadata": {
        "id": "WCXEF7TQvH3F"
      },
      "execution_count": null,
      "outputs": []
    },
    {
      "cell_type": "code",
      "source": [
        "#----------------------------------------\n",
        "#--------most popular areas -----------\n",
        "#----------------------------------------\n",
        "areas=dataset['Location'].value_counts().head()\n",
        "print(areas)\n",
        "plt.xlabel(\"Location_Name\")\n",
        "plt.ylabel(\"NumberOfLocation\")\n",
        "plt.title(\"most popular location\")\n",
        "locLable=list(areas.keys())\n",
        "plt.bar(locLable,areas)\n",
        "plt.show()\n"
      ],
      "metadata": {
        "id": "RPKVVjBDvU9Y"
      },
      "execution_count": null,
      "outputs": []
    },
    {
      "cell_type": "code",
      "source": [
        "#----------------------------------------\n",
        "#--------most popular areas -----------\n",
        "#----------------------------------------\n",
        "skills=dataset['Skills'].value_counts().head()\n",
        "print(\">>>>>>>>>>popular skills >>>>>>>>>>>\")\n",
        "print(skills)\n",
        "skillsLabel=list(skills.keys())\n",
        "plt.xlabel(\"skill\")\n",
        "plt.ylabel(\"NumberOskills\")\n",
        "plt.title(\"most popular skills\")\n",
        "plt.bar(skillsLabel,skills)\n",
        "plt.show()\n"
      ],
      "metadata": {
        "id": "b6RiSZvtvVCX"
      },
      "execution_count": null,
      "outputs": []
    }
  ]
}